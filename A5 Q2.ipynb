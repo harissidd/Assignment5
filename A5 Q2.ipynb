{
 "cells": [
  {
   "cell_type": "code",
   "execution_count": null,
   "metadata": {},
   "outputs": [],
   "source": [
    "string = input(\"Enter a String \")\n",
    "def check(string):\n",
    "    stri = sum(map(str.islower, string))\n",
    "    print(\"The lower strings are \" ,stri)\n",
    "    strr = sum(map(str.isupper, string))\n",
    "    print(\"The upper strings are \" ,strr)\n",
    "check(string)"
   ]
  }
 ],
 "metadata": {
  "kernelspec": {
   "display_name": "Python 3",
   "language": "python",
   "name": "python3"
  },
  "language_info": {
   "codemirror_mode": {
    "name": "ipython",
    "version": 3
   },
   "file_extension": ".py",
   "mimetype": "text/x-python",
   "name": "python",
   "nbconvert_exporter": "python",
   "pygments_lexer": "ipython3",
   "version": "3.7.4"
  }
 },
 "nbformat": 4,
 "nbformat_minor": 2
}
