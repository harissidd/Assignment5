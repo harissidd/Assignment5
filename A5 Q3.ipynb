{
 "cells": [
  {
   "cell_type": "code",
   "execution_count": null,
   "metadata": {},
   "outputs": [],
   "source": [
    "def even():\n",
    "    list = [10, 21, 4, 45, 66, 93, 23, 4 , 5, 6 , 7 , 8 , 9] \n",
    "    num = 0        \n",
    "    while(num < len(list)): \n",
    "        if num % 2 == 0:\n",
    "            print(list[num], end = \" \") \n",
    "            num += 1\n",
    "even()"
   ]
  }
 ],
 "metadata": {
  "kernelspec": {
   "display_name": "Python 3",
   "language": "python",
   "name": "python3"
  },
  "language_info": {
   "codemirror_mode": {
    "name": "ipython",
    "version": 3
   },
   "file_extension": ".py",
   "mimetype": "text/x-python",
   "name": "python",
   "nbconvert_exporter": "python",
   "pygments_lexer": "ipython3",
   "version": "3.7.4"
  }
 },
 "nbformat": 4,
 "nbformat_minor": 2
}
